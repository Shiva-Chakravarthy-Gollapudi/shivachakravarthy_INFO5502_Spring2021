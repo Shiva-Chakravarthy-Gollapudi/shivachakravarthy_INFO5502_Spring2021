{
  "cells": [
    {
      "cell_type": "markdown",
      "metadata": {
        "id": "view-in-github"
      },
      "source": [
        "<a href=\"https://colab.research.google.com/github/unt-iialab/INFO5731_Spring2020/blob/master/Assignments/INFO5731_Assignment_One.ipynb\" target=\"_parent\"><img src=\"https://colab.research.google.com/assets/colab-badge.svg\" alt=\"Open In Colab\"/></a>"
      ]
    },
    {
      "cell_type": "markdown",
      "metadata": {
        "id": "Ryk8D1Q4Wsrp"
      },
      "source": [
        "# **The second Lab-assignment (02/04/2022, 50 points in total)**"
      ]
    },
    {
      "cell_type": "markdown",
      "metadata": {
        "id": "90_NR8c5XGWc"
      },
      "source": [
        "# Question 1\n",
        "\n",
        "(5 points). Write a Python program to generate 12 random numbers between 1 and 100. Sort the list of numbers in ascending order and print it out. Sort the list of numbers in descending order and print it out. Calculate the average for the group and print it out."
      ]
    },
    {
      "cell_type": "code",
      "execution_count": 23,
      "metadata": {
        "colab": {
          "base_uri": "https://localhost:8080/"
        },
        "id": "5QX6bJjGWXY9",
        "outputId": "f0f5155b-9781-4a65-94fa-1e65911fd424"
      },
      "outputs": [
        {
          "output_type": "stream",
          "name": "stdout",
          "text": [
            "List of Random numbers: [40, 46, 19, 31, 7, 99, 29, 7, 49, 34, 4, 97]\n",
            "List of random numbers in ascending order:  [4, 7, 7, 19, 29, 31, 34, 40, 46, 49, 97, 99]\n",
            "List of random numbers in descending order:  [99, 97, 49, 46, 40, 34, 31, 29, 19, 7, 7, 4]\n",
            "average of the list:  38.5\n"
          ]
        }
      ],
      "source": [
        "# Your code here\n",
        "\n",
        "import random\n",
        "res = []\n",
        "def Rnums(start, end, num):\n",
        "    for j in range(num):\n",
        "      res.append(random.randint(start, end))\n",
        "    return res\n",
        " \n",
        "\n",
        "num = 12\n",
        "start = 1\n",
        "end = 100\n",
        "print('List of Random numbers:', Rnums(start, end, num))\n",
        "res.sort()\n",
        "print('List of random numbers in ascending order: ', res)\n",
        "res.sort(reverse=True)\n",
        "print('List of random numbers in descending order: ', res)\n",
        "print('average of the list: ', round(sum(res)/len(res), 2))  # Limited the float into two decimal points"
      ]
    },
    {
      "cell_type": "markdown",
      "metadata": {
        "id": "1F_PZdH9Sh49"
      },
      "source": [
        "# Question 2\n",
        "(20 points). Write a program that will do the following string formatting tasks:\n",
        "\n",
        "(1) Ask the user to enter two sentences.\n",
        "\n",
        "(2) Make each sentence into a list. Each element in the list should correspond to a word in the sentence. For example, if the sentence is \"Alas! Am I alive? This is my first python program\", the program should print out ['Alas, '!', 'Am', 'I', 'alive, '?', 'This', 'is', 'my', 'first', 'python', 'program'].\n",
        "\n",
        "(3) Compare the two sentences. Print out a list of words that occur in both sentences.\n",
        "\n",
        "(4) Remove any punctuation from the sentence and print it back out. It should remove at least the following characters, but it can remove more: period(“.”), comma (“,”), semicolon (“;”), and colon (“:”)\n",
        "\n",
        "(5) Count the number of vowels in the sentences. Print out each vowel and the number of times it appears in the sentences, such as: a:2, e:1, i:0, etc"
      ]
    },
    {
      "cell_type": "code",
      "execution_count": 24,
      "metadata": {
        "colab": {
          "base_uri": "https://localhost:8080/"
        },
        "id": "Y0oOSlsOS0cq",
        "outputId": "d3d1804f-9155-4dd4-ab4b-aa432164ab97"
      },
      "outputs": [
        {
          "output_type": "stream",
          "name": "stdout",
          "text": [
            "Enter first string: hello world ? shiva here\n",
            "Enter second string: hello indai > ; \n",
            "First list: ['hello', 'world', '?', 'shiva', 'here']\n",
            "Second list: ['hello', 'indai', '>', ';']\n",
            "\n",
            "Following are common: \n",
            "hello\n",
            "\n",
            "Following are common words without punctuation\n",
            "hello\n",
            "\n",
            "Following are first sentence without punctuation:\n",
            " hello world shiva here\n",
            "\n",
            "Following are second sentence without punctuation:\n",
            " hello indai\n",
            "\n",
            "Vowel frequency in first string: {'a': 1, 'e': 3, 'i': 1, 'o': 2, 'u': 0}\n",
            "\n",
            "Vowel frequency in second string: {'a': 1, 'e': 1, 'i': 2, 'o': 1, 'u': 0}\n",
            "\n",
            "Vowel frequency in full string: {'a': 2, 'e': 4, 'i': 3, 'o': 3, 'u': 0}\n"
          ]
        }
      ],
      "source": [
        "# Your code here\n",
        "import string\n",
        "import re\n",
        "\n",
        "# part 1\n",
        "first_sen = input(\"Enter first string: \")\n",
        "second_sen = input(\"Enter second string: \")\n",
        "\n",
        "# part 2\n",
        "# to split spacings and special characters [.,!?;:]\n",
        "a = re.findall(r\"[\\w']+|[:;?!.,><]\", first_sen)\n",
        "b = re.findall(r\"[\\w']+|[:;?!.,<>]\", second_sen)\n",
        "print(\"First list:\", a)\n",
        "print(\"Second list:\", b)\n",
        "\n",
        "# part 3 printing common words\n",
        "print(\"\\nFollowing are common: \")\n",
        "for word in a:\n",
        "  for other in b:\n",
        "    if word.lower() == other.lower():\n",
        "      print(word)\n",
        "\n",
        "# part 4, checking if the string is in punctuation or not\n",
        "print(\"\\nFollowing are common words without punctuation\")\n",
        "for word in a:\n",
        "  for other in b:\n",
        "    if word.lower() == other.lower() and word not in string.punctuation:\n",
        "      print(word)\n",
        "\n",
        "i = []\n",
        "for word in a:\n",
        "  if word not in string.punctuation:\n",
        "    i.append(word)\n",
        "first_senw = \" \".join(str(item) for item in i)\n",
        "\n",
        "i = []\n",
        "for word in b:\n",
        "  if word not in string.punctuation:\n",
        "    i.append(word)\n",
        "second_senw = \" \".join(str(item) for item in i)\n",
        "\n",
        "print(\"\\nFollowing are first sentence without punctuation:\\n\",  first_senw)\n",
        "print(\"\\nFollowing are second sentence without punctuation:\\n\", second_senw)\n",
        "\n",
        "\n",
        "# part 5, checking for the vowels\n",
        "vowels = {'a':0, 'e':0, 'i':0, 'o':0, 'u':0}\n",
        "\n",
        "for letter in first_sen:\n",
        "  if letter.lower() in vowels:\n",
        "    vowels[letter.lower()] += 1\n",
        "\n",
        "print(\"\\nVowel frequency in first string:\",vowels)\n",
        "\n",
        "vowels = {'a':0, 'e':0, 'i':0, 'o':0, 'u':0}\n",
        "for letter in second_sen:\n",
        "  if letter.lower() in vowels:\n",
        "    vowels[letter.lower()] += 1\n",
        "\n",
        "print(\"\\nVowel frequency in second string:\",vowels)\n",
        "\n",
        "vowels = {'a':0, 'e':0, 'i':0, 'o':0, 'u':0}\n",
        "full_sen = first_sen + second_sen\n",
        "for letter in full_sen:\n",
        "  if letter.lower() in vowels:\n",
        "    vowels[letter.lower()] += 1\n",
        "\n",
        "print(\"\\nVowel frequency in full string:\",vowels)"
      ]
    },
    {
      "cell_type": "markdown",
      "metadata": {
        "id": "CmFoI4jDS9nx"
      },
      "source": [
        "# Question 3 \n",
        "\n",
        "(5 points). The formula that describes the volume V of a sphere with radius r is the following:\n",
        "\n",
        "$ V=\\frac{4}{3}\\ast\\ \\pi\\ast\\ r^3 $\n",
        "\n",
        "Write a program to calculate the value of V when r is in the range of 1–10. Output the result in the following format:\n",
        "\n",
        "\tr\tV\n",
        "\t1\t…\n",
        "\t2\t…\n",
        "\t3\t…\n"
      ]
    },
    {
      "cell_type": "code",
      "execution_count": 25,
      "metadata": {
        "id": "pEyqeioAT95b",
        "colab": {
          "base_uri": "https://localhost:8080/"
        },
        "outputId": "2d4bd80a-9d12-47c5-b610-51480216b03b"
      },
      "outputs": [
        {
          "output_type": "stream",
          "name": "stdout",
          "text": [
            "r\t v \n",
            "1 \t 4.1887902047863905\n",
            "2 \t 33.510321638291124\n",
            "3 \t 113.09733552923254\n",
            "4 \t 268.082573106329\n",
            "5 \t 523.5987755982989\n",
            "6 \t 904.7786842338603\n",
            "7 \t 1436.7550402417319\n",
            "8 \t 2144.660584850632\n",
            "9 \t 3053.6280592892786\n",
            "10 \t 4188.790204786391\n"
          ]
        }
      ],
      "source": [
        "# Your code here\n",
        "\n",
        "print(\"r\\t v \")\n",
        "import math\n",
        "for i in range(1, 11):\n",
        "  v = 4/3*math.pi*(i**3)\n",
        "  print(i, \"\\t\", v)"
      ]
    },
    {
      "cell_type": "markdown",
      "metadata": {
        "id": "z3tBE7E-Xn5X"
      },
      "source": [
        "# Question 4\n",
        "\n",
        "(20 points). In the field of Data Science, data is often formatted as a comma-delimited (CSV) file, where each line in a file corresponds to a field's value. Refer to Chapter 9 (p. 106) for more information on comma-delimited files. To answer this question, you will need to download the file [lab_assignment_02_denton_housing.csv](https://raw.githubusercontent.com/unt-iialab/info5502-spring2022/main/datasets/lab_assignment_02_denton_housing.csv) included with this assignment. The file [lab_assignment_02_denton_housing.csv](https://raw.githubusercontent.com/unt-iialab/info5502-spring2022/main/datasets/lab_assignment_02_denton_housing.csv) contains statistics about housing in the city of Denton from 2008 to 2014. Write a program to implement the following questions.\n",
        "\n",
        "(1) (10 pts) Calculate the difference in the number of Occupied Housing Units from year to year and print it. The difference must be calculated for the consecutive years such as 2008-2009, 2009-2010 etc. Finally, print the values in the ascending order.\n",
        "\n",
        "(2) (10 pts) For all the years, calculate the percentage of housing units which are vacant an occupied. Print the results in the following format:\n",
        "\n",
        "Year Vacant Housing Units Occupied Housing Units\n",
        "\n",
        "    2008  30%   70%                          \n",
        "\t2009 ----- -----\n",
        "\t2010 ----- -----\n",
        "    2011 ----- -----\n",
        "\t2012 ----- -----\n",
        "    2013 ----- -----\n",
        "\t2014 ----- -----\n",
        "  \n",
        "  \n",
        "\n",
        "(3) (10 pts) Calculate and print the valued and years in which the highest number of housing units were vacant and occupied. Print the results in the following format:  \n",
        "\n",
        "                              Year\tValue\n",
        "\tVacant Housing Units\t  -----   -----\n",
        "\tOccupied Housing Units\t-----   -----\n",
        "\n",
        "(4) (10 pts) Calculate the harmonic mean of the total housing units and print it out. You can find the information about harmonic mean here: https://ncalculators.com/statistics/harmonic-mean-calculator.htm"
      ]
    },
    {
      "cell_type": "code",
      "source": [
        "import pandas as pd\n",
        "import statistics\n",
        "\n",
        "house = pd.read_csv('/content/sample_data/lab_assignment_02_denton_housing.csv')\n",
        "print('Shape: ',house.shape)\n",
        "print(house.head())\n",
        "\n",
        "# Question 1:\n",
        "\n",
        "# number of ocupied houses\n",
        "occuped_houses = house[house['title_field'] == 'Occupied Housing Units'].sort_values(by=['year'])\n",
        "\n",
        "# the difference in the number of Occupied Housing Units from year to year\n",
        "diff_house = [list(occuped_houses['value'].values)[loop1] - list(occuped_houses['value'].values)[loop1+1]\\\n",
        "              for loop1 in range(len(occuped_houses)-1)]\n",
        "diff_house = sorted(diff_house)    # sorting in ascending order\n",
        "print(\"\\nthe difference in the number of Occupied Housing Units from year to year:\", diff_house)\n",
        "\n",
        "# Question 2:\n",
        "\n",
        "unique_years = sorted(list(house['year'].unique()))   \n",
        "occuped_houses = house[house['title_field'] == 'Occupied Housing Units'].sort_values(by=['year'])\n",
        "vacant_houses = house[house['title_field'] == 'Vacant Housing Units'].sort_values(by=['year'])\n",
        "\n",
        "new_house_df = pd.DataFrame()\n",
        "new_house_df['year'] = unique_years\n",
        "new_house_df['Vacant House'] = vacant_houses['value'].values\n",
        "new_house_df['Occupied House'] = occuped_houses['value'].values\n",
        "new_house_df['Percent of Vacant House'] = [(new_house_df['Vacant House'][loop1] * 100) /\\\n",
        "                                           (new_house_df['Vacant House'][loop1] + new_house_df['Occupied House'][loop1])\\\n",
        "                                           for loop1 in range(len(new_house_df))]\n",
        "new_house_df['Percent of Occupied House'] = [(new_house_df['Occupied House'][loop1] * 100) /\\\n",
        "                                           (new_house_df['Vacant House'][loop1] + new_house_df['Occupied House'][loop1])\\\n",
        "                                           for loop1 in range(len(new_house_df))]\n",
        "print(\"\\nthe percentage of housing units which are vacant an occupied: \")\n",
        "print(new_house_df)\n",
        "new_house_df['Percent of Vacant House'] = round(new_house_df['Percent of Vacant House'],2)\n",
        "new_house_df['Percent of Occupied House'] = round(new_house_df['Percent of Occupied House'],2)\n",
        "print(new_house_df)\n",
        "\n",
        "# Question 3:\n",
        "# the highest number of vacant housing units\n",
        "max_vacant_houses = max(house[house['title_field'] == 'Vacant Housing Units'].value)\n",
        "vacant_houses = vacant_houses[vacant_houses['value'] == max_vacant_houses]\n",
        "\n",
        "# the highest number of Occupied housing units\n",
        "max_occuped_houses = max(house[house['title_field'] == 'Occupied Housing Units'].value)\n",
        "occuped_houses = occuped_houses[occuped_houses['value'] == max_occuped_houses]\n",
        "print(vacant_houses)\n",
        "print(occuped_houses)\n",
        "mm=pd.concat([vacant_houses,occuped_houses])\n",
        "mm.set_index('title_field',inplace=True)\n",
        "mm.index.name = None\n",
        "print('\\n', mm)\n",
        "\n",
        "#Question:4 \n",
        "# Importing the statistics module\n",
        "from statistics import harmonic_mean\n",
        "data1 = house.value\n",
        "list(data1)\n",
        "print(\"\\n harmonic mean of the total housing units % s\"\n",
        "               % (harmonic_mean(data1)))\n"
      ],
      "metadata": {
        "colab": {
          "base_uri": "https://localhost:8080/"
        },
        "id": "3bJW3mBSJccd",
        "outputId": "b474873e-409a-41c8-efb8-dfd229738768"
      },
      "execution_count": 26,
      "outputs": [
        {
          "output_type": "stream",
          "name": "stdout",
          "text": [
            "Shape:  (42, 3)\n",
            "   year             title_field  value\n",
            "0  2014     Total Housing Units  49109\n",
            "1  2014    Vacant Housing Units   2814\n",
            "2  2014  Occupied Housing Units  46295\n",
            "3  2013     Total Housing Units  47888\n",
            "4  2013    Vacant Housing Units   4215\n",
            "\n",
            "the difference in the number of Occupied Housing Units from year to year: [-5091, -2622, -1565, -1404, 303, 795]\n",
            "\n",
            "the percentage of housing units which are vacant an occupied: \n",
            "   year  Vacant House  ...  Percent of Vacant House  Percent of Occupied House\n",
            "0  2008          4483  ...                10.882653                  89.117347\n",
            "1  2009          3583  ...                 9.071116                  90.928884\n",
            "2  2010          3635  ...                 8.142556                  91.857444\n",
            "3  2011          4213  ...                 9.379522                  90.620478\n",
            "4  2012          3013  ...                 6.677600                  93.322400\n",
            "5  2013          4215  ...                 8.801788                  91.198212\n",
            "6  2014          2814  ...                 5.730111                  94.269889\n",
            "\n",
            "[7 rows x 5 columns]\n",
            "   year  Vacant House  ...  Percent of Vacant House  Percent of Occupied House\n",
            "0  2008          4483  ...                    10.88                      89.12\n",
            "1  2009          3583  ...                     9.07                      90.93\n",
            "2  2010          3635  ...                     8.14                      91.86\n",
            "3  2011          4213  ...                     9.38                      90.62\n",
            "4  2012          3013  ...                     6.68                      93.32\n",
            "5  2013          4215  ...                     8.80                      91.20\n",
            "6  2014          2814  ...                     5.73                      94.27\n",
            "\n",
            "[7 rows x 5 columns]\n",
            "    year           title_field  value\n",
            "19  2008  Vacant Housing Units   4483\n",
            "   year             title_field  value\n",
            "2  2014  Occupied Housing Units  46295\n",
            "\n",
            "                         year  value\n",
            "Vacant Housing Units    2008   4483\n",
            "Occupied Housing Units  2014  46295\n",
            "\n",
            " harmonic mean of the total housing units 3657.434087880617\n"
          ]
        }
      ]
    },
    {
      "cell_type": "code",
      "source": [
        ""
      ],
      "metadata": {
        "id": "NLwboVVouQMH"
      },
      "execution_count": null,
      "outputs": []
    }
  ],
  "metadata": {
    "colab": {
      "collapsed_sections": [],
      "name": "lab_assignment_02.ipynb",
      "provenance": []
    },
    "kernelspec": {
      "display_name": "Python 3",
      "language": "python",
      "name": "python3"
    },
    "language_info": {
      "codemirror_mode": {
        "name": "ipython",
        "version": 3
      },
      "file_extension": ".py",
      "mimetype": "text/x-python",
      "name": "python",
      "nbconvert_exporter": "python",
      "pygments_lexer": "ipython3",
      "version": "3.8.5"
    }
  },
  "nbformat": 4,
  "nbformat_minor": 0
}